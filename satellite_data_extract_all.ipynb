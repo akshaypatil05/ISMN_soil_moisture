{
 "cells": [
  {
   "cell_type": "code",
   "execution_count": 1,
   "id": "3f917a9c",
   "metadata": {},
   "outputs": [],
   "source": [
    "\n",
    "import ee\n",
    "import pandas as pd\n",
    "import geemap\n",
    "from datetime import datetime\n",
    "from tqdm import tqdm\n",
    "import matplotlib.pyplot as plt"
   ]
  },
  {
   "cell_type": "code",
   "execution_count": 2,
   "id": "e51a3a0b",
   "metadata": {},
   "outputs": [
    {
     "data": {
      "text/html": [
       "\n",
       "            <style>\n",
       "                .geemap-dark {\n",
       "                    --jp-widgets-color: white;\n",
       "                    --jp-widgets-label-color: white;\n",
       "                    --jp-ui-font-color1: white;\n",
       "                    --jp-layout-color2: #454545;\n",
       "                    background-color: #383838;\n",
       "                }\n",
       "\n",
       "                .geemap-dark .jupyter-button {\n",
       "                    --jp-layout-color3: #383838;\n",
       "                }\n",
       "\n",
       "                .geemap-colab {\n",
       "                    background-color: var(--colab-primary-surface-color, white);\n",
       "                }\n",
       "\n",
       "                .geemap-colab .jupyter-button {\n",
       "                    --jp-layout-color3: var(--colab-primary-surface-color, white);\n",
       "                }\n",
       "            </style>\n",
       "            "
      ],
      "text/plain": [
       "<IPython.core.display.HTML object>"
      ]
     },
     "metadata": {},
     "output_type": "display_data"
    }
   ],
   "source": [
    "\n",
    "# Authenticate and initialize Earth Engine\n",
    "#ee.Authenticate()\n",
    "ee.Initialize()"
   ]
  },
  {
   "cell_type": "code",
   "execution_count": 3,
   "id": "4a5dfdff",
   "metadata": {},
   "outputs": [
    {
     "data": {
      "text/html": [
       "\n",
       "            <style>\n",
       "                .geemap-dark {\n",
       "                    --jp-widgets-color: white;\n",
       "                    --jp-widgets-label-color: white;\n",
       "                    --jp-ui-font-color1: white;\n",
       "                    --jp-layout-color2: #454545;\n",
       "                    background-color: #383838;\n",
       "                }\n",
       "\n",
       "                .geemap-dark .jupyter-button {\n",
       "                    --jp-layout-color3: #383838;\n",
       "                }\n",
       "\n",
       "                .geemap-colab {\n",
       "                    background-color: var(--colab-primary-surface-color, white);\n",
       "                }\n",
       "\n",
       "                .geemap-colab .jupyter-button {\n",
       "                    --jp-layout-color3: var(--colab-primary-surface-color, white);\n",
       "                }\n",
       "            </style>\n",
       "            "
      ],
      "text/plain": [
       "<IPython.core.display.HTML object>"
      ]
     },
     "metadata": {},
     "output_type": "display_data"
    }
   ],
   "source": [
    "# Date range\n",
    "start_date = '2016-06-01'\n",
    "end_date = '2025-06-14'"
   ]
  },
  {
   "cell_type": "code",
   "execution_count": null,
   "id": "b6847ced",
   "metadata": {},
   "outputs": [],
   "source": [
    "# def file_read(csv_path):\n",
    "#     csv_path = csv_path # Update this if needed\n",
    "#     df = pd.read_csv(csv_path)\n",
    "    \n",
    "#     # Ensure column names\n",
    "#     lat_col, lon_col = 'latitude', 'longitude'  # Modify if your columns are named differently\n",
    "\n",
    "#     # Extract bounding box\n",
    "#     min_lat = df[lat_col].min()\n",
    "#     max_lat = df[lat_col].max()\n",
    "#     min_lon = df[lon_col].min()\n",
    "#     max_lon = df[lon_col].max()\n",
    "\n",
    "#     # Create EE geometry bounding box\n",
    "#     region_bbox = ee.Geometry.BBox(min_lon, min_lat, max_lon, max_lat)\n",
    "#     print(f\"✅ Bounding box created: ({min_lon}, {min_lat}) to ({max_lon}, {max_lat})\")\n",
    "#     features = []\n",
    "#     for _, row in df.iterrows():\n",
    "#         point = ee.Geometry.Point(row[lon_col], row[lat_col])\n",
    "#         feature = ee.Feature(point, {\n",
    "#             'Latitude': row[lat_col],\n",
    "#             'Longitude': row[lon_col]\n",
    "#         })\n",
    "#         features.append(feature)\n",
    "#     point_fc = ee.FeatureCollection(features)\n",
    "#     return df,region_bbox,point_fc\n",
    "\n",
    "# # Sentinel-2 NDVI calculation function\n",
    "# def compute_ndvi(image):\n",
    "#     ndvi = image.normalizedDifference(['B8', 'B4']).rename('NDVI')\n",
    "#     return image.addBands(ndvi)\n",
    "\n",
    "# # Define cloud masking function using QA60 band (clouds and cirrus)\n",
    "# def mask_s2_clouds(image):\n",
    "#     qa = image.select('QA60')\n",
    "#     # Bits 10 and 11 are clouds and cirrus\n",
    "#     cloud_bit_mask = 1 << 10\n",
    "#     cirrus_bit_mask = 1 << 11\n",
    "#     mask = qa.bitwiseAnd(cloud_bit_mask).eq(0).And(\n",
    "#            qa.bitwiseAnd(cirrus_bit_mask).eq(0))\n",
    "#     return image.updateMask(mask).copyProperties(image, ['system:time_start'])\n",
    "\n",
    "# def s2_collection(start_date, end_date, region_bbox):\n",
    "#     # Load Sentinel-2 surface reflectance, apply filters\n",
    "#     s2_col = ee.ImageCollection('COPERNICUS/S2_SR_HARMONIZED') \\\n",
    "#         .filterDate(start_date, end_date) \\\n",
    "#         .filterBounds(region_bbox) \\\n",
    "#         .filter(ee.Filter.lt('CLOUDY_PIXEL_PERCENTAGE', 20)) \\\n",
    "#         .map(mask_s2_clouds) \\\n",
    "#         .map(compute_ndvi) \\\n",
    "#         .select('NDVI')\n",
    "#     # Print metadata: number of images\n",
    "#     # count = s2_col.size().getInfo()\n",
    "#     # print(f\"✅ Total images in filtered collection: {count}\")\n",
    "#     return s2_col\n",
    "\n",
    "# def display_image(im,region_bbox, point_fc):\n",
    "#     first_info = im.getInfo()\n",
    "#     print(\"\\n📄 Metadata of first image in collection:\")\n",
    "#     print(f\"ID: {first_info['id']}\")\n",
    "#     print(f\"Date: {ee.Date(im.get('system:time_start')).format('YYYY-MM-dd').getInfo()}\")\n",
    "\n",
    "#     # Visualize NDVI of first image\n",
    "#     Map = geemap.Map(center=[10, 0], zoom=4)  # Adjust center for your region\n",
    "#     ndvi_vis = {'min': 0, 'max': 1, 'palette': ['blue', 'white', 'green']}\n",
    "#     Map.addLayer(im.select('NDVI'), ndvi_vis, 'First NDVI Image')\n",
    "#     Map.addLayer(region_bbox,{},'BBOX')\n",
    "#     Map.addLayer(point_fc, {'color': 'red'}, 'Stations')\n",
    "#     Map.add_colorbar(vis_params=ndvi_vis, label='NDVI', layer_name='First NDVI Image')\n",
    "#     return Map\n",
    "\n",
    "\n",
    "# # Function to extract NDVI time series for a point\n",
    "# def extract_ndvi_series(lat, lon,s2_col):\n",
    "#     point = ee.Geometry.Point(float(lon), float(lat))\n",
    "#     def extract_value(image):\n",
    "#         date = ee.Date(image.get('system:time_start')).format('YYYY-MM-dd')\n",
    "#         value = image.reduceRegion(ee.Reducer.mean(), point, scale=10).get('NDVI')\n",
    "#         return ee.Feature(None, {'date': date, 'NDVI': value})\n",
    "#     features = s2_col.map(extract_value).filter(ee.Filter.notNull(['NDVI']))\n",
    "#     return features.aggregate_array('date').getInfo(), features.aggregate_array('NDVI').getInfo()\n"
   ]
  },
  {
   "cell_type": "code",
   "execution_count": null,
   "id": "9790933b",
   "metadata": {},
   "outputs": [],
   "source": [
    "# def batch_extract(df,s2_col):\n",
    "#     # Prepare output dataframe\n",
    "#     results = []\n",
    "\n",
    "#     for idx, row in tqdm(df.iterrows(), total=len(df)):\n",
    "#         lat, lon, network,station = row['latitude'], row['longitude'], row['network'], row['station']\n",
    "#         try:\n",
    "#             dates, values = extract_ndvi_series(lat, lon,s2_col)\n",
    "#             row_data = {\n",
    "#                 'network':network,\n",
    "#                 'station':station,\n",
    "#                 'Latitude': lat,\n",
    "#                 'Longitude': lon\n",
    "#             }\n",
    "#             row_data.update({date: value for date, value in zip(dates, values)})\n",
    "#             results.append(row_data)\n",
    "#         except Exception as e:\n",
    "#             print(f\"Error at index {idx}: {e}\")\n",
    "\n",
    "#     # Convert result to DataFrame\n",
    "#     df = pd.DataFrame(results)\n",
    "#     return df\n"
   ]
  },
  {
   "cell_type": "code",
   "execution_count": null,
   "id": "a6e33cc2",
   "metadata": {},
   "outputs": [],
   "source": [
    "# import os\n",
    "# import glob\n",
    "# import pandas as pd\n",
    "\n",
    "# # Root data directory\n",
    "# root_dir = 'data'\n",
    "# # Output directory\n",
    "# output_base = os.path.join(root_dir, 'satellite_data')\n",
    "\n",
    "# # Get all continent folders under 'data' (e.g., africa, europe, asia)\n",
    "# for continent_folder in os.listdir(root_dir):\n",
    "#     continent_path = os.path.join(root_dir, continent_folder)\n",
    "#     # Skip if not a directory or if it's the satellite_data output folder itself\n",
    "#     if not os.path.isdir(continent_path) or continent_folder == 'satellite_data':\n",
    "#         continue\n",
    "\n",
    "#     # Path to input CSVs\n",
    "#     input_csv_dir = os.path.join(continent_path, 'extracted_data', 'mean', 'agg_mean')\n",
    "#     if not os.path.exists(input_csv_dir):\n",
    "#         continue\n",
    "\n",
    "#     # Output folder: data/satellite_data/<continent>\n",
    "#     output_folder = os.path.join(output_base, continent_folder)\n",
    "#     os.makedirs(output_folder, exist_ok=True)\n",
    "\n",
    "#     # Process all CSV files in the input directory\n",
    "#     csv_files = glob.glob(os.path.join(input_csv_dir, '*.csv'))\n",
    "#     for csv_file in csv_files:\n",
    "#         filename = os.path.basename(csv_file)\n",
    "#         output_path = os.path.join(output_folder, filename)\n",
    "\n",
    "#         # Skip processing if file already exists\n",
    "#         if os.path.exists(output_path):\n",
    "#             print(f\"Skipped (already exists): {output_path}\")\n",
    "#             continue\n",
    "        \n",
    "#         df, region_bbox,point_fc = file_read(csv_file)\n",
    "#         s2_col=s2_collection(start_date, end_date, region_bbox)\n",
    "#         df_extract=batch_extract(df,s2_col)\n",
    "#         output_path = os.path.join(output_folder, filename)\n",
    "#         df_extract.to_csv(output_path, index=False)\n",
    "#         print(f\"Saved: {output_path}\")"
   ]
  },
  {
   "cell_type": "markdown",
   "id": "da5ad9c6",
   "metadata": {},
   "source": [
    "### updated code to avoid time out error"
   ]
  },
  {
   "cell_type": "code",
   "execution_count": 4,
   "id": "4480c257",
   "metadata": {},
   "outputs": [
    {
     "data": {
      "text/html": [
       "\n",
       "            <style>\n",
       "                .geemap-dark {\n",
       "                    --jp-widgets-color: white;\n",
       "                    --jp-widgets-label-color: white;\n",
       "                    --jp-ui-font-color1: white;\n",
       "                    --jp-layout-color2: #454545;\n",
       "                    background-color: #383838;\n",
       "                }\n",
       "\n",
       "                .geemap-dark .jupyter-button {\n",
       "                    --jp-layout-color3: #383838;\n",
       "                }\n",
       "\n",
       "                .geemap-colab {\n",
       "                    background-color: var(--colab-primary-surface-color, white);\n",
       "                }\n",
       "\n",
       "                .geemap-colab .jupyter-button {\n",
       "                    --jp-layout-color3: var(--colab-primary-surface-color, white);\n",
       "                }\n",
       "            </style>\n",
       "            "
      ],
      "text/plain": [
       "<IPython.core.display.HTML object>"
      ]
     },
     "metadata": {},
     "output_type": "display_data"
    }
   ],
   "source": [
    "def file_read(csv_path):\n",
    "    csv_path = csv_path # Update this if needed\n",
    "    df = pd.read_csv(csv_path)\n",
    "    \n",
    "    # Ensure column names\n",
    "    lat_col, lon_col = 'latitude', 'longitude'  # Modify if your columns are named differently\n",
    "\n",
    "    # Extract bounding box\n",
    "    min_lat = df[lat_col].min()\n",
    "    max_lat = df[lat_col].max()\n",
    "    min_lon = df[lon_col].min()\n",
    "    max_lon = df[lon_col].max()\n",
    "\n",
    "    # Create EE geometry bounding box\n",
    "    region_bbox = ee.Geometry.BBox(min_lon, min_lat, max_lon, max_lat)\n",
    "    print(f\"✅ Bounding box created: ({min_lon}, {min_lat}) to ({max_lon}, {max_lat})\")\n",
    "    features = []\n",
    "    for _, row in df.iterrows():\n",
    "        point = ee.Geometry.Point(row[lon_col], row[lat_col])\n",
    "        feature = ee.Feature(point, {\n",
    "            'Latitude': row[lat_col],\n",
    "            'Longitude': row[lon_col]\n",
    "        })\n",
    "        features.append(feature)\n",
    "    point_fc = ee.FeatureCollection(features)\n",
    "    return df,region_bbox,point_fc\n",
    "\n",
    "# Sentinel-2 NDVI calculation function\n",
    "def compute_ndvi(image):\n",
    "    ndvi = image.normalizedDifference(['B8', 'B4']).rename('NDVI')\n",
    "    return image.addBands(ndvi)\n",
    "\n",
    "# Define cloud masking function using QA60 band (clouds and cirrus)\n",
    "def mask_s2_clouds(image):\n",
    "    qa = image.select('QA60')\n",
    "    # Bits 10 and 11 are clouds and cirrus\n",
    "    cloud_bit_mask = 1 << 10\n",
    "    cirrus_bit_mask = 1 << 11\n",
    "    mask = qa.bitwiseAnd(cloud_bit_mask).eq(0).And(\n",
    "           qa.bitwiseAnd(cirrus_bit_mask).eq(0))\n",
    "    return image.updateMask(mask).copyProperties(image, ['system:time_start'])"
   ]
  },
  {
   "cell_type": "code",
   "execution_count": 5,
   "id": "296eeab4",
   "metadata": {},
   "outputs": [
    {
     "data": {
      "text/html": [
       "\n",
       "            <style>\n",
       "                .geemap-dark {\n",
       "                    --jp-widgets-color: white;\n",
       "                    --jp-widgets-label-color: white;\n",
       "                    --jp-ui-font-color1: white;\n",
       "                    --jp-layout-color2: #454545;\n",
       "                    background-color: #383838;\n",
       "                }\n",
       "\n",
       "                .geemap-dark .jupyter-button {\n",
       "                    --jp-layout-color3: #383838;\n",
       "                }\n",
       "\n",
       "                .geemap-colab {\n",
       "                    background-color: var(--colab-primary-surface-color, white);\n",
       "                }\n",
       "\n",
       "                .geemap-colab .jupyter-button {\n",
       "                    --jp-layout-color3: var(--colab-primary-surface-color, white);\n",
       "                }\n",
       "            </style>\n",
       "            "
      ],
      "text/plain": [
       "<IPython.core.display.HTML object>"
      ]
     },
     "metadata": {},
     "output_type": "display_data"
    }
   ],
   "source": [
    "def extract_ndvi_series(lat, lon, start_date, end_date, buffer_m=250):\n",
    "    point = ee.Geometry.Point(float(lon), float(lat))\n",
    "    buffer = point.buffer(buffer_m)\n",
    "\n",
    "    # Query per-point collection\n",
    "    s2_col = ee.ImageCollection('COPERNICUS/S2_SR_HARMONIZED') \\\n",
    "        .filterDate(start_date, end_date) \\\n",
    "        .filterBounds(buffer) \\\n",
    "        .filter(ee.Filter.lt('CLOUDY_PIXEL_PERCENTAGE', 20)) \\\n",
    "        .map(mask_s2_clouds) \\\n",
    "        .map(compute_ndvi) \\\n",
    "        .select('NDVI')\n",
    "\n",
    "    def extract_value(image):\n",
    "        date = ee.Date(image.get('system:time_start')).format('YYYY-MM-dd')\n",
    "        value = image.reduceRegion(ee.Reducer.mean(), point, scale=10).get('NDVI')\n",
    "        return ee.Feature(None, {'date': date, 'NDVI': value})\n",
    "    \n",
    "    features = s2_col.map(extract_value).filter(ee.Filter.notNull(['NDVI']))\n",
    "    return features.aggregate_array('date').getInfo(), features.aggregate_array('NDVI').getInfo()\n",
    "\n",
    "def batch_extract(df, start_date, end_date):\n",
    "    # Step 1: Extract time series per point and track all unique dates\n",
    "    all_results = []\n",
    "    all_dates_set = set()\n",
    "\n",
    "    for idx, row in tqdm(df.iterrows(), total=len(df)):\n",
    "        lat, lon, network, station = row['latitude'], row['longitude'], row['network'], row['station']\n",
    "        try:\n",
    "            dates, values = extract_ndvi_series(lat, lon, start_date, end_date)\n",
    "            all_dates_set.update(dates)\n",
    "            row_data = {\n",
    "                'network': network,\n",
    "                'station': station,\n",
    "                'Latitude': lat,\n",
    "                'Longitude': lon,\n",
    "                'ndvi_series': dict(zip(dates, values))\n",
    "            }\n",
    "            all_results.append(row_data)\n",
    "        except Exception as e:\n",
    "            print(f\"❌ Error at index {idx}: {e}\")\n",
    "\n",
    "    # Step 2: Normalize to master date list\n",
    "    all_dates_sorted = sorted(list(all_dates_set))  # use as fixed columns\n",
    "    final_results = []\n",
    "\n",
    "    for row in all_results:\n",
    "        base_data = {\n",
    "            'network': row['network'],\n",
    "            'station': row['station'],\n",
    "            'Latitude': row['Latitude'],\n",
    "            'Longitude': row['Longitude']\n",
    "        }\n",
    "        # Fill in NDVI per date or NaN if missing\n",
    "        ndvi_series = {date: row['ndvi_series'].get(date, float('nan')) for date in all_dates_sorted}\n",
    "        base_data.update(ndvi_series)\n",
    "        final_results.append(base_data)\n",
    "\n",
    "    df_final = pd.DataFrame(final_results)\n",
    "    return df_final\n"
   ]
  },
  {
   "cell_type": "code",
   "execution_count": 6,
   "id": "8603aac2",
   "metadata": {},
   "outputs": [
    {
     "data": {
      "text/html": [
       "\n",
       "            <style>\n",
       "                .geemap-dark {\n",
       "                    --jp-widgets-color: white;\n",
       "                    --jp-widgets-label-color: white;\n",
       "                    --jp-ui-font-color1: white;\n",
       "                    --jp-layout-color2: #454545;\n",
       "                    background-color: #383838;\n",
       "                }\n",
       "\n",
       "                .geemap-dark .jupyter-button {\n",
       "                    --jp-layout-color3: #383838;\n",
       "                }\n",
       "\n",
       "                .geemap-colab {\n",
       "                    background-color: var(--colab-primary-surface-color, white);\n",
       "                }\n",
       "\n",
       "                .geemap-colab .jupyter-button {\n",
       "                    --jp-layout-color3: var(--colab-primary-surface-color, white);\n",
       "                }\n",
       "            </style>\n",
       "            "
      ],
      "text/plain": [
       "<IPython.core.display.HTML object>"
      ]
     },
     "metadata": {},
     "output_type": "display_data"
    },
    {
     "name": "stdout",
     "output_type": "stream",
     "text": [
      "✅ Bounding box created: (1.6053, 9.74407) to (2.6956, 13.6456)\n"
     ]
    },
    {
     "name": "stderr",
     "output_type": "stream",
     "text": [
      "100%|██████████| 7/7 [02:45<00:00, 23.62s/it]\n"
     ]
    },
    {
     "name": "stdout",
     "output_type": "stream",
     "text": [
      "Saved: data\\satellite_data\\africa\\AMMA-CATCH.csv\n",
      "✅ Bounding box created: (30.4783, 13.2829) to (30.4783, 13.2829)\n"
     ]
    },
    {
     "name": "stderr",
     "output_type": "stream",
     "text": [
      "100%|██████████| 1/1 [00:33<00:00, 33.54s/it]\n"
     ]
    },
    {
     "name": "stdout",
     "output_type": "stream",
     "text": [
      "Saved: data\\satellite_data\\africa\\SD_DEM.csv\n",
      "✅ Bounding box created: (-3.93513, -2.88283) to (40.02984, 11.06886)\n"
     ]
    },
    {
     "name": "stderr",
     "output_type": "stream",
     "text": [
      "100%|██████████| 33/33 [06:26<00:00, 11.70s/it]"
     ]
    },
    {
     "name": "stdout",
     "output_type": "stream",
     "text": [
      "Saved: data\\satellite_data\\africa\\TAHMO.csv\n"
     ]
    },
    {
     "name": "stderr",
     "output_type": "stream",
     "text": [
      "\n"
     ]
    }
   ],
   "source": [
    "import os\n",
    "import glob\n",
    "import pandas as pd\n",
    "\n",
    "# Root data directory\n",
    "root_dir = 'data'\n",
    "# Output directory\n",
    "output_base = os.path.join(root_dir, 'satellite_data')\n",
    "\n",
    "# Get all continent folders under 'data' (e.g., africa, europe, asia)\n",
    "for continent_folder in os.listdir(root_dir):\n",
    "    continent_path = os.path.join(root_dir, continent_folder)\n",
    "    # Skip if not a directory or if it's the satellite_data output folder itself\n",
    "    if not os.path.isdir(continent_path) or continent_folder == 'satellite_data':\n",
    "        continue\n",
    "\n",
    "    # Path to input CSVs\n",
    "    input_csv_dir = os.path.join(continent_path, 'extracted_data', 'mean', 'agg_mean')\n",
    "    if not os.path.exists(input_csv_dir):\n",
    "        continue\n",
    "\n",
    "    # Output folder: data/satellite_data/<continent>\n",
    "    output_folder = os.path.join(output_base, continent_folder)\n",
    "    os.makedirs(output_folder, exist_ok=True)\n",
    "\n",
    "    # Process all CSV files in the input directory\n",
    "    csv_files = glob.glob(os.path.join(input_csv_dir, '*.csv'))\n",
    "    for csv_file in csv_files:\n",
    "        filename = os.path.basename(csv_file)\n",
    "        output_path = os.path.join(output_folder, filename)\n",
    "\n",
    "        # Skip processing if file already exists\n",
    "        if os.path.exists(output_path):\n",
    "            print(f\"Skipped (already exists): {output_path}\")\n",
    "            continue\n",
    "        \n",
    "        df, region_bbox,point_fc = file_read(csv_file)\n",
    "        df_extract = batch_extract(df, start_date, end_date)\n",
    "        output_path = os.path.join(output_folder, filename)\n",
    "        df_extract.to_csv(output_path, index=False)\n",
    "        print(f\"Saved: {output_path}\")"
   ]
  },
  {
   "cell_type": "code",
   "execution_count": null,
   "id": "fa7fdc1c",
   "metadata": {},
   "outputs": [],
   "source": []
  }
 ],
 "metadata": {
  "kernelspec": {
   "display_name": "gee",
   "language": "python",
   "name": "python3"
  },
  "language_info": {
   "codemirror_mode": {
    "name": "ipython",
    "version": 3
   },
   "file_extension": ".py",
   "mimetype": "text/x-python",
   "name": "python",
   "nbconvert_exporter": "python",
   "pygments_lexer": "ipython3",
   "version": "3.9.18"
  }
 },
 "nbformat": 4,
 "nbformat_minor": 5
}
