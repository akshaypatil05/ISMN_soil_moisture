{
 "cells": [
  {
   "cell_type": "code",
   "execution_count": 1,
   "id": "30910635",
   "metadata": {},
   "outputs": [],
   "source": [
    "from ismn.interface import ISMN_Interface\n",
    "import matplotlib.pyplot as plt\n",
    "%matplotlib inline\n",
    "import pandas as pd\n",
    "import os\n",
    "import re\n",
    "import numpy as np\n",
    "import xarray as xr\n",
    "import geopandas as gpd\n",
    "from shapely.geometry import Point\n",
    "from datetime import datetime\n",
    "import warnings\n",
    "warnings.filterwarnings('ignore')"
   ]
  },
  {
   "cell_type": "markdown",
   "id": "1b6ab9e5",
   "metadata": {},
   "source": [
    "## Provide path for data (.zip)\n",
    "- Downloaded from ISMN Website"
   ]
  },
  {
   "cell_type": "code",
   "execution_count": 2,
   "id": "134cd002",
   "metadata": {},
   "outputs": [
    {
     "name": "stdout",
     "output_type": "stream",
     "text": [
      "Using the existing ismn metadata in data\\africa\\python_metadata\\Data_separate_files_header_20160614_20250614_11438_iyLN_20250614.csv to set up ISMN_Interface. \n",
      "If there are issues with the data reader, you can remove the metadata csv file to repeat metadata collection.\n",
      "Data will be extracted for these station:  ['AMMA-CATCH', 'SD_DEM', 'TAHMO']\n"
     ]
    }
   ],
   "source": [
    "path = r'data\\africa\\Data_separate_files_header_20160614_20250614_11438_iyLN_20250614.zip'\n",
    "ismn_data = ISMN_Interface(path, parallel=True)\n",
    "network_list=[]\n",
    "for i in ismn_data.networks:\n",
    "    network_list.append(i)\n",
    "print('Data will be extracted for these station: ', network_list)"
   ]
  },
  {
   "cell_type": "code",
   "execution_count": 3,
   "id": "7535a93a",
   "metadata": {},
   "outputs": [
    {
     "name": "stdout",
     "output_type": "stream",
     "text": [
      "Processing network: AMMA-CATCH\n"
     ]
    },
    {
     "name": "stderr",
     "output_type": "stream",
     "text": [
      "100%|██████████| 7/7 [00:01<00:00,  4.10it/s]\n"
     ]
    },
    {
     "name": "stdout",
     "output_type": "stream",
     "text": [
      "Dimention of static dataframe:  (16, 13)\n",
      "Dimention of time series soil moisture dataframe:  (16, 931)\n",
      "Dimention of merged dataframe:  (16, 944)\n",
      "File successfully written to data\\africa\\extracted_data\\mean\\AMMA-CATCH.csv\n",
      "--------------------------------------------------\n",
      "Processing network: SD_DEM\n"
     ]
    },
    {
     "name": "stderr",
     "output_type": "stream",
     "text": [
      "100%|██████████| 1/1 [00:00<00:00,  5.76it/s]\n"
     ]
    },
    {
     "name": "stdout",
     "output_type": "stream",
     "text": [
      "Dimention of static dataframe:  (2, 13)\n",
      "Dimention of time series soil moisture dataframe:  (2, 1613)\n",
      "Dimention of merged dataframe:  (2, 1626)\n",
      "File successfully written to data\\africa\\extracted_data\\mean\\SD_DEM.csv\n",
      "--------------------------------------------------\n",
      "Processing network: TAHMO\n"
     ]
    },
    {
     "name": "stderr",
     "output_type": "stream",
     "text": [
      "100%|██████████| 33/33 [00:02<00:00, 14.12it/s]\n"
     ]
    },
    {
     "name": "stdout",
     "output_type": "stream",
     "text": [
      "Dimention of static dataframe:  (37, 13)\n",
      "Dimention of time series soil moisture dataframe:  (37, 1168)\n",
      "Dimention of merged dataframe:  (37, 1181)\n",
      "File successfully written to data\\africa\\extracted_data\\mean\\TAHMO.csv\n",
      "--------------------------------------------------\n",
      "Processing network: AMMA-CATCH\n"
     ]
    },
    {
     "name": "stderr",
     "output_type": "stream",
     "text": [
      "100%|██████████| 7/7 [00:00<00:00,  8.84it/s]\n"
     ]
    },
    {
     "name": "stdout",
     "output_type": "stream",
     "text": [
      "Dimention of static dataframe:  (16, 13)\n",
      "Dimention of time series soil moisture dataframe:  (16, 931)\n",
      "Dimention of merged dataframe:  (16, 944)\n",
      "File successfully written to data\\africa\\extracted_data\\max\\AMMA-CATCH.csv\n",
      "--------------------------------------------------\n",
      "Processing network: SD_DEM\n"
     ]
    },
    {
     "name": "stderr",
     "output_type": "stream",
     "text": [
      "100%|██████████| 1/1 [00:00<00:00,  4.81it/s]\n"
     ]
    },
    {
     "name": "stdout",
     "output_type": "stream",
     "text": [
      "Dimention of static dataframe:  (2, 13)\n",
      "Dimention of time series soil moisture dataframe:  (2, 1613)\n",
      "Dimention of merged dataframe:  (2, 1626)\n",
      "File successfully written to data\\africa\\extracted_data\\max\\SD_DEM.csv\n",
      "--------------------------------------------------\n",
      "Processing network: TAHMO\n"
     ]
    },
    {
     "name": "stderr",
     "output_type": "stream",
     "text": [
      "100%|██████████| 33/33 [00:02<00:00, 14.38it/s]\n"
     ]
    },
    {
     "name": "stdout",
     "output_type": "stream",
     "text": [
      "Dimention of static dataframe:  (37, 13)\n",
      "Dimention of time series soil moisture dataframe:  (37, 1168)\n",
      "Dimention of merged dataframe:  (37, 1181)\n",
      "File successfully written to data\\africa\\extracted_data\\max\\TAHMO.csv\n",
      "--------------------------------------------------\n",
      "Processing network: AMMA-CATCH\n"
     ]
    },
    {
     "name": "stderr",
     "output_type": "stream",
     "text": [
      "100%|██████████| 7/7 [00:00<00:00,  8.94it/s]\n"
     ]
    },
    {
     "name": "stdout",
     "output_type": "stream",
     "text": [
      "Dimention of static dataframe:  (16, 13)\n",
      "Dimention of time series soil moisture dataframe:  (16, 931)\n",
      "Dimention of merged dataframe:  (16, 944)\n",
      "File successfully written to data\\africa\\extracted_data\\min\\AMMA-CATCH.csv\n",
      "--------------------------------------------------\n",
      "Processing network: SD_DEM\n"
     ]
    },
    {
     "name": "stderr",
     "output_type": "stream",
     "text": [
      "100%|██████████| 1/1 [00:00<00:00,  5.85it/s]\n"
     ]
    },
    {
     "name": "stdout",
     "output_type": "stream",
     "text": [
      "Dimention of static dataframe:  (2, 13)\n",
      "Dimention of time series soil moisture dataframe:  (2, 1613)\n",
      "Dimention of merged dataframe:  (2, 1626)\n",
      "File successfully written to data\\africa\\extracted_data\\min\\SD_DEM.csv\n",
      "--------------------------------------------------\n",
      "Processing network: TAHMO\n"
     ]
    },
    {
     "name": "stderr",
     "output_type": "stream",
     "text": [
      "100%|██████████| 33/33 [00:02<00:00, 14.86it/s]\n"
     ]
    },
    {
     "name": "stdout",
     "output_type": "stream",
     "text": [
      "Dimention of static dataframe:  (37, 13)\n",
      "Dimention of time series soil moisture dataframe:  (37, 1168)\n",
      "Dimention of merged dataframe:  (37, 1181)\n",
      "File successfully written to data\\africa\\extracted_data\\min\\TAHMO.csv\n",
      "--------------------------------------------------\n",
      "Processing network: AMMA-CATCH\n"
     ]
    },
    {
     "name": "stderr",
     "output_type": "stream",
     "text": [
      "100%|██████████| 7/7 [00:00<00:00,  8.77it/s]\n"
     ]
    },
    {
     "name": "stdout",
     "output_type": "stream",
     "text": [
      "Dimention of static dataframe:  (16, 13)\n",
      "Dimention of time series soil moisture dataframe:  (16, 931)\n",
      "Dimention of merged dataframe:  (16, 944)\n",
      "File successfully written to data\\africa\\extracted_data\\std\\AMMA-CATCH.csv\n",
      "--------------------------------------------------\n",
      "Processing network: SD_DEM\n"
     ]
    },
    {
     "name": "stderr",
     "output_type": "stream",
     "text": [
      "100%|██████████| 1/1 [00:00<00:00,  5.38it/s]\n"
     ]
    },
    {
     "name": "stdout",
     "output_type": "stream",
     "text": [
      "Dimention of static dataframe:  (2, 13)\n",
      "Dimention of time series soil moisture dataframe:  (2, 1613)\n",
      "Dimention of merged dataframe:  (2, 1626)\n",
      "File successfully written to data\\africa\\extracted_data\\std\\SD_DEM.csv\n",
      "--------------------------------------------------\n",
      "Processing network: TAHMO\n"
     ]
    },
    {
     "name": "stderr",
     "output_type": "stream",
     "text": [
      "100%|██████████| 33/33 [00:03<00:00, 10.91it/s]\n"
     ]
    },
    {
     "name": "stdout",
     "output_type": "stream",
     "text": [
      "Dimention of static dataframe:  (37, 13)\n",
      "Dimention of time series soil moisture dataframe:  (37, 1168)\n",
      "Dimention of merged dataframe:  (37, 1181)\n",
      "File successfully written to data\\africa\\extracted_data\\std\\TAHMO.csv\n",
      "--------------------------------------------------\n",
      "Processing network: AMMA-CATCH\n"
     ]
    },
    {
     "name": "stderr",
     "output_type": "stream",
     "text": [
      "100%|██████████| 7/7 [00:01<00:00,  6.06it/s]\n"
     ]
    },
    {
     "name": "stdout",
     "output_type": "stream",
     "text": [
      "Dimention of static dataframe:  (16, 13)\n",
      "Dimention of time series soil moisture dataframe:  (16, 931)\n",
      "Dimention of merged dataframe:  (16, 944)\n",
      "File successfully written to data\\africa\\extracted_data\\median\\AMMA-CATCH.csv\n",
      "--------------------------------------------------\n",
      "Processing network: SD_DEM\n"
     ]
    },
    {
     "name": "stderr",
     "output_type": "stream",
     "text": [
      "100%|██████████| 1/1 [00:00<00:00,  4.70it/s]\n"
     ]
    },
    {
     "name": "stdout",
     "output_type": "stream",
     "text": [
      "Dimention of static dataframe:  (2, 13)\n",
      "Dimention of time series soil moisture dataframe:  (2, 1613)\n",
      "Dimention of merged dataframe:  (2, 1626)\n",
      "File successfully written to data\\africa\\extracted_data\\median\\SD_DEM.csv\n",
      "--------------------------------------------------\n",
      "Processing network: TAHMO\n"
     ]
    },
    {
     "name": "stderr",
     "output_type": "stream",
     "text": [
      "100%|██████████| 33/33 [00:02<00:00, 12.86it/s]\n"
     ]
    },
    {
     "name": "stdout",
     "output_type": "stream",
     "text": [
      "Dimention of static dataframe:  (37, 13)\n",
      "Dimention of time series soil moisture dataframe:  (37, 1168)\n",
      "Dimention of merged dataframe:  (37, 1181)\n",
      "File successfully written to data\\africa\\extracted_data\\median\\TAHMO.csv\n",
      "--------------------------------------------------\n"
     ]
    }
   ],
   "source": [
    "\n",
    "from shapely.geometry import Point\n",
    "from src.ismn_utils import *\n",
    "\n",
    "export_format = 'csv'  #'geojson', 'shp', 'parquet', 'gpkg','csv'\n",
    "stat_operator=['mean','max','min','std', 'median']\n",
    "\n",
    "for stat in stat_operator:\n",
    "\n",
    "    for network in ismn_data.networks:\n",
    "        print(f'Processing network: {network}')\n",
    "\n",
    "        try:\n",
    "\n",
    "            sm = ismn_data[network].to_xarray(variable='soil_moisture')\n",
    "            \n",
    "            if sm is None or len(sm.sensor)==0:\n",
    "                print(f\"No soil moisture data available for network: {network}. Skipping...\\n{'-'*50}\")\n",
    "                continue\n",
    "\n",
    "            # Extract static parameters\n",
    "            static_df = get_static(sm)\n",
    "\n",
    "            # Extract time series soil moisture\n",
    "            ts_df=get_sm_time_series(sm)\n",
    "            ts_df=get_sm_time_series(sm, statistic=stat)\n",
    "\n",
    "            # Merge \n",
    "            merged_df=pd.concat([static_df, ts_df], axis=1)\n",
    "            print('Dimention of static dataframe: ', static_df.shape)\n",
    "            print('Dimention of time series soil moisture dataframe: ',ts_df.shape)\n",
    "            print('Dimention of merged dataframe: ', merged_df.shape)\n",
    "\n",
    "            geometry = [Point(xy) for xy in zip(merged_df['longitude'], merged_df['latitude'])]\n",
    "            gdf = gpd.GeoDataFrame(merged_df, geometry=geometry, crs='EPSG:4326')\n",
    "\n",
    "\n",
    "            # Build output path without extension\n",
    "            output_path = os.path.join(os.path.split(path)[0], 'extracted_data',stat, f'{network}')\n",
    "            os.makedirs(os.path.dirname(output_path), exist_ok=True)\n",
    "\n",
    "            export_gdf(gdf, output_path, file_format=export_format)\n",
    "\n",
    "        except Exception as e:\n",
    "            print(f\"Error processing network {network}:{e}\\n{'-'*50}\")\n",
    "\n",
    "        \n"
   ]
  },
  {
   "cell_type": "code",
   "execution_count": null,
   "id": "f9200c33",
   "metadata": {},
   "outputs": [],
   "source": []
  }
 ],
 "metadata": {
  "kernelspec": {
   "display_name": "ismn",
   "language": "python",
   "name": "python3"
  },
  "language_info": {
   "codemirror_mode": {
    "name": "ipython",
    "version": 3
   },
   "file_extension": ".py",
   "mimetype": "text/x-python",
   "name": "python",
   "nbconvert_exporter": "python",
   "pygments_lexer": "ipython3",
   "version": "3.12.5"
  }
 },
 "nbformat": 4,
 "nbformat_minor": 5
}
