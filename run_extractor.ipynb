{
 "cells": [
  {
   "cell_type": "markdown",
   "id": "4ea61897",
   "metadata": {},
   "source": [
    "#### The below code works but it is computationally more costly"
   ]
  },
  {
   "cell_type": "code",
   "execution_count": 1,
   "id": "30910635",
   "metadata": {},
   "outputs": [],
   "source": [
    "# from ismn.interface import ISMN_Interface\n",
    "# import matplotlib.pyplot as plt\n",
    "# %matplotlib inline\n",
    "# import pandas as pd\n",
    "# import os\n",
    "# import re\n",
    "# import numpy as np\n",
    "# import xarray as xr\n",
    "# import geopandas as gpd\n",
    "# from shapely.geometry import Point\n",
    "# from datetime import datetime\n",
    "# import warnings\n",
    "# warnings.filterwarnings('ignore')"
   ]
  },
  {
   "cell_type": "markdown",
   "id": "1b6ab9e5",
   "metadata": {},
   "source": [
    "### Provide path for data (.zip)\n",
    "- Downloaded from ISMN Website"
   ]
  },
  {
   "cell_type": "code",
   "execution_count": 2,
   "id": "134cd002",
   "metadata": {},
   "outputs": [],
   "source": [
    "# path = r'data\\oceania\\Data_separate_files_header_20160614_20250614_11438_viBk_20250614.zip'\n",
    "# ismn_data = ISMN_Interface(path, parallel=True)\n",
    "# network_list=[]\n",
    "# for i in ismn_data.networks:\n",
    "#     network_list.append(i)\n",
    "# print('Data will be extracted for these station: ', network_list)"
   ]
  },
  {
   "cell_type": "code",
   "execution_count": 3,
   "id": "7535a93a",
   "metadata": {},
   "outputs": [],
   "source": [
    "# from shapely.geometry import Point\n",
    "# from src.ismn_utils import *\n",
    "\n",
    "# export_format = 'csv'  #'geojson', 'shp', 'parquet', 'gpkg','csv'\n",
    "# stat_operator=['mean','max','min','std', 'median']\n",
    "\n",
    "# for stat in stat_operator:\n",
    "\n",
    "#     for network in ismn_data.networks:\n",
    "#         print(f'Processing network: {network}')\n",
    "\n",
    "#         try:\n",
    "\n",
    "#             sm = ismn_data[network].to_xarray(variable='soil_moisture')\n",
    "            \n",
    "#             if sm is None or len(sm.sensor)==0:\n",
    "#                 print(f\"No soil moisture data available for network: {network}. Skipping...\\n{'-'*50}\")\n",
    "#                 continue\n",
    "\n",
    "#             # Extract static parameters\n",
    "#             static_df = get_static(sm)\n",
    "\n",
    "#             # Extract time series soil moisture\n",
    "#             ts_df=get_sm_time_series(sm)\n",
    "#             ts_df=get_sm_time_series(sm, statistic=stat)\n",
    "\n",
    "#             # Merge \n",
    "#             merged_df=pd.concat([static_df, ts_df], axis=1)\n",
    "#             print('Dimention of static dataframe: ', static_df.shape)\n",
    "#             print('Dimention of time series soil moisture dataframe: ',ts_df.shape)\n",
    "#             print('Dimention of merged dataframe: ', merged_df.shape)\n",
    "\n",
    "#             geometry = [Point(xy) for xy in zip(merged_df['longitude'], merged_df['latitude'])]\n",
    "#             gdf = gpd.GeoDataFrame(merged_df, geometry=geometry, crs='EPSG:4326')\n",
    "\n",
    "\n",
    "#             # Build output path without extension\n",
    "#             output_path = os.path.join(os.path.split(path)[0], 'extracted_data',stat, f'{network}')\n",
    "#             os.makedirs(os.path.dirname(output_path), exist_ok=True)\n",
    "\n",
    "#             export_gdf(gdf, output_path, file_format=export_format)\n",
    "\n",
    "#         except Exception as e:\n",
    "#             print(f\"Error processing network {network}:{e}\\n{'-'*50}\")\n",
    "\n",
    "        \n"
   ]
  },
  {
   "cell_type": "markdown",
   "id": "36fb8062",
   "metadata": {},
   "source": [
    "### Use this code instead \n",
    "- It is computationally efficient\n",
    "- Run on batch \n",
    "- Gererates log"
   ]
  },
  {
   "cell_type": "code",
   "execution_count": 4,
   "id": "56cfd6fc",
   "metadata": {},
   "outputs": [],
   "source": [
    "import os\n",
    "import warnings\n",
    "from ismn.interface import ISMN_Interface\n",
    "import pandas as pd\n",
    "import geopandas as gpd\n",
    "from shapely.geometry import Point\n",
    "from src.ismn_utils import get_static, get_sm_time_series, export_gdf\n",
    "from tqdm import tqdm\n",
    "import matplotlib.pyplot as plt\n",
    "%matplotlib inline\n",
    "warnings.filterwarnings('ignore')"
   ]
  },
  {
   "cell_type": "code",
   "execution_count": 5,
   "id": "bebcfb7e",
   "metadata": {},
   "outputs": [],
   "source": [
    "# ------------------------- CONFIG -------------------------\n",
    "data_root = 'data'  # Root folder containing continent subfolders\n",
    "export_format = 'csv'\n",
    "stat_operators = ['mean', 'max', 'min', 'std', 'median']"
   ]
  },
  {
   "cell_type": "code",
   "execution_count": 6,
   "id": "ef4b3585",
   "metadata": {},
   "outputs": [],
   "source": [
    "def process_network(ismn_data, network, stat, base_output_dir, raw_ts_cache, overwrite=False, log_list=None):\n",
    "    stat_dir = os.path.join(base_output_dir, stat)\n",
    "    os.makedirs(stat_dir, exist_ok=True)\n",
    "\n",
    "    output_file = os.path.join(stat_dir, f\"{network}\")  # <-- No .csv extension\n",
    "    if os.path.exists(os.path.join(output_file+'.'+export_format)) and not overwrite:\n",
    "        msg = f\"  ✔ Output exists for {network} - {stat}. Skipping.\"\n",
    "        print(msg)\n",
    "        log_list.append(msg)\n",
    "        return \"skipped\"\n",
    "\n",
    "    try:\n",
    "        sm = ismn_data[network].to_xarray(variable='soil_moisture')\n",
    "        if sm is None or len(sm.sensor) == 0:\n",
    "            msg = f\"  ✘ No soil moisture for {network}.\"\n",
    "            print(msg)\n",
    "            log_list.append(msg)\n",
    "            return \"failed\"\n",
    "\n",
    "        print(f\"  ⏳ Processing {network} with {len(sm.sensor)} sensors...\")\n",
    "\n",
    "        # Cache xarray object once per network\n",
    "        if network not in raw_ts_cache:\n",
    "            raw_ts_cache[network] = sm\n",
    "\n",
    "        static_df = get_static(sm)\n",
    "        ts_df = get_sm_time_series(raw_ts_cache[network], statistic=stat)\n",
    "\n",
    "        merged_df = pd.concat([static_df, ts_df], axis=1)\n",
    "        geometry = [Point(xy) for xy in zip(merged_df['longitude'], merged_df['latitude'])]\n",
    "        gdf = gpd.GeoDataFrame(merged_df, geometry=geometry, crs='EPSG:4326')\n",
    "\n",
    "        export_gdf(gdf, output_file, file_format=export_format)\n",
    "\n",
    "        msg = f\"  ✓ Exported: {output_file}\"\n",
    "        print(msg)\n",
    "        log_list.append(msg)\n",
    "        return \"success\"\n",
    "\n",
    "    except Exception as e:\n",
    "        msg = f\"  ⚠ Error with {network} - {stat}: {e}\"\n",
    "        print(msg)\n",
    "        log_list.append(msg)\n",
    "        return \"failed\"\n",
    "    \n",
    "def process_ismn_file(file_path, overwrite=False):\n",
    "    print(f\"\\n📁 Processing file: {os.path.basename(file_path)}\")\n",
    "\n",
    "    log = []\n",
    "    result_counter = {\"success\": 0, \"skipped\": 0, \"failed\": 0}\n",
    "\n",
    "    try:\n",
    "        ismn_data = ISMN_Interface(file_path, parallel=True)\n",
    "    except Exception as e:\n",
    "        msg = f\"⚠ Failed to load {file_path}: {e}\"\n",
    "        print(msg)\n",
    "        log.append(msg)\n",
    "        return log, result_counter\n",
    "\n",
    "    raw_ts_cache = {}\n",
    "    base_output_dir = os.path.join(os.path.dirname(file_path), 'extracted_data')\n",
    "\n",
    "    for stat in stat_operators:\n",
    "        print(f\"\\n🔄 Stat: {stat}\")\n",
    "        for network in tqdm(ismn_data.networks, desc=f\"Networks for {stat}\"):\n",
    "            result = process_network(\n",
    "                ismn_data, network, stat,\n",
    "                base_output_dir, raw_ts_cache,\n",
    "                overwrite=overwrite,\n",
    "                log_list=log\n",
    "            )\n",
    "            result_counter[result] += 1\n",
    "\n",
    "    return log, result_counter\n"
   ]
  },
  {
   "cell_type": "code",
   "execution_count": 7,
   "id": "edc2e2a9",
   "metadata": {},
   "outputs": [
    {
     "name": "stdout",
     "output_type": "stream",
     "text": [
      "Total ISMN zip files found: 2\n",
      "\n",
      "📁 Processing file: Data_separate_files_header_20160614_20250614_11438_iyLN_20250614.zip\n",
      "Using the existing ismn metadata in data\\africa\\python_metadata\\Data_separate_files_header_20160614_20250614_11438_iyLN_20250614.csv to set up ISMN_Interface. \n",
      "If there are issues with the data reader, you can remove the metadata csv file to repeat metadata collection.\n",
      "\n",
      "🔄 Stat: mean\n"
     ]
    },
    {
     "name": "stderr",
     "output_type": "stream",
     "text": [
      "Networks for mean: 100%|██████████| 3/3 [00:00<00:00, 1110.58it/s]\n"
     ]
    },
    {
     "name": "stdout",
     "output_type": "stream",
     "text": [
      "  ✔ Output exists for AMMA-CATCH - mean. Skipping.\n",
      "  ✔ Output exists for SD_DEM - mean. Skipping.\n",
      "  ✔ Output exists for TAHMO - mean. Skipping.\n",
      "\n",
      "🔄 Stat: max\n"
     ]
    },
    {
     "name": "stderr",
     "output_type": "stream",
     "text": [
      "Networks for max: 100%|██████████| 3/3 [00:00<00:00, 775.10it/s]\n"
     ]
    },
    {
     "name": "stdout",
     "output_type": "stream",
     "text": [
      "  ✔ Output exists for AMMA-CATCH - max. Skipping.\n",
      "  ✔ Output exists for SD_DEM - max. Skipping.\n",
      "  ✔ Output exists for TAHMO - max. Skipping.\n",
      "\n",
      "🔄 Stat: min\n"
     ]
    },
    {
     "name": "stderr",
     "output_type": "stream",
     "text": [
      "Networks for min: 100%|██████████| 3/3 [00:00<?, ?it/s]\n"
     ]
    },
    {
     "name": "stdout",
     "output_type": "stream",
     "text": [
      "  ✔ Output exists for AMMA-CATCH - min. Skipping.\n",
      "  ✔ Output exists for SD_DEM - min. Skipping.\n",
      "  ✔ Output exists for TAHMO - min. Skipping.\n",
      "\n",
      "🔄 Stat: std\n"
     ]
    },
    {
     "name": "stderr",
     "output_type": "stream",
     "text": [
      "Networks for std: 100%|██████████| 3/3 [00:00<00:00, 721.37it/s]\n"
     ]
    },
    {
     "name": "stdout",
     "output_type": "stream",
     "text": [
      "  ✔ Output exists for AMMA-CATCH - std. Skipping.\n",
      "  ✔ Output exists for SD_DEM - std. Skipping.\n",
      "  ✔ Output exists for TAHMO - std. Skipping.\n",
      "\n",
      "🔄 Stat: median\n"
     ]
    },
    {
     "name": "stderr",
     "output_type": "stream",
     "text": [
      "Networks for median: 100%|██████████| 3/3 [00:00<00:00, 560.54it/s]"
     ]
    },
    {
     "name": "stdout",
     "output_type": "stream",
     "text": [
      "  ✔ Output exists for AMMA-CATCH - median. Skipping.\n",
      "  ✔ Output exists for SD_DEM - median. Skipping.\n",
      "  ✔ Output exists for TAHMO - median. Skipping.\n",
      "\n",
      "📁 Processing file: Data_separate_files_header_20160614_20250614_11438_LLzI_20250614.zip\n",
      "Using the existing ismn metadata in data\\asia\\python_metadata\\Data_separate_files_header_20160614_20250614_11438_LLzI_20250614.csv to set up ISMN_Interface. \n",
      "If there are issues with the data reader, you can remove the metadata csv file to repeat metadata collection.\n"
     ]
    },
    {
     "name": "stderr",
     "output_type": "stream",
     "text": [
      "\n"
     ]
    },
    {
     "name": "stdout",
     "output_type": "stream",
     "text": [
      "\n",
      "🔄 Stat: mean\n"
     ]
    },
    {
     "name": "stderr",
     "output_type": "stream",
     "text": [
      "100%|██████████| 53/53 [00:02<00:00, 19.77it/s]<?, ?it/s]\n"
     ]
    },
    {
     "name": "stdout",
     "output_type": "stream",
     "text": [
      "  ⏳ Processing CTP_SMTMN with 102 sensors...\n"
     ]
    },
    {
     "name": "stderr",
     "output_type": "stream",
     "text": [
      "Networks for mean:   9%|▉         | 1/11 [00:24<04:08, 24.90s/it]"
     ]
    },
    {
     "name": "stdout",
     "output_type": "stream",
     "text": [
      "File successfully written to data\\asia\\extracted_data\\mean\\CTP_SMTMN.csv\n",
      "--------------------------------------------------\n",
      "  ✓ Exported: data\\asia\\extracted_data\\mean\\CTP_SMTMN\n"
     ]
    },
    {
     "name": "stderr",
     "output_type": "stream",
     "text": [
      "100%|██████████| 18/18 [00:01<00:00, 10.17it/s]\n"
     ]
    },
    {
     "name": "stdout",
     "output_type": "stream",
     "text": [
      "  ⏳ Processing KIHS_CMC with 18 sensors...\n"
     ]
    },
    {
     "name": "stderr",
     "output_type": "stream",
     "text": [
      "Networks for mean:  18%|█▊        | 2/11 [00:50<03:46, 25.18s/it]"
     ]
    },
    {
     "name": "stdout",
     "output_type": "stream",
     "text": [
      "File successfully written to data\\asia\\extracted_data\\mean\\KIHS_CMC.csv\n",
      "--------------------------------------------------\n",
      "  ✓ Exported: data\\asia\\extracted_data\\mean\\KIHS_CMC\n"
     ]
    },
    {
     "name": "stderr",
     "output_type": "stream",
     "text": [
      "100%|██████████| 19/19 [00:01<00:00,  9.67it/s]\n"
     ]
    },
    {
     "name": "stdout",
     "output_type": "stream",
     "text": [
      "  ⏳ Processing KIHS_SMC with 19 sensors...\n"
     ]
    },
    {
     "name": "stderr",
     "output_type": "stream",
     "text": [
      "Networks for mean:  27%|██▋       | 3/11 [01:12<03:09, 23.68s/it]"
     ]
    },
    {
     "name": "stdout",
     "output_type": "stream",
     "text": [
      "File successfully written to data\\asia\\extracted_data\\mean\\KIHS_SMC.csv\n",
      "--------------------------------------------------\n",
      "  ✓ Exported: data\\asia\\extracted_data\\mean\\KIHS_SMC\n"
     ]
    },
    {
     "name": "stderr",
     "output_type": "stream",
     "text": [
      "100%|██████████| 16/16 [00:01<00:00,  9.48it/s]\n"
     ]
    },
    {
     "name": "stdout",
     "output_type": "stream",
     "text": [
      "  ⏳ Processing MAQU with 31 sensors...\n"
     ]
    },
    {
     "name": "stderr",
     "output_type": "stream",
     "text": [
      "Networks for mean:  36%|███▋      | 4/11 [01:38<02:54, 24.90s/it]"
     ]
    },
    {
     "name": "stdout",
     "output_type": "stream",
     "text": [
      "File successfully written to data\\asia\\extracted_data\\mean\\MAQU.csv\n",
      "--------------------------------------------------\n",
      "  ✓ Exported: data\\asia\\extracted_data\\mean\\MAQU\n"
     ]
    },
    {
     "name": "stderr",
     "output_type": "stream",
     "text": [
      "100%|██████████| 9/9 [00:01<00:00,  6.17it/s]\n"
     ]
    },
    {
     "name": "stdout",
     "output_type": "stream",
     "text": [
      "  ⏳ Processing NAQU with 18 sensors...\n"
     ]
    },
    {
     "name": "stderr",
     "output_type": "stream",
     "text": [
      "Networks for mean:  45%|████▌     | 5/11 [01:57<02:15, 22.62s/it]"
     ]
    },
    {
     "name": "stdout",
     "output_type": "stream",
     "text": [
      "File successfully written to data\\asia\\extracted_data\\mean\\NAQU.csv\n",
      "--------------------------------------------------\n",
      "  ✓ Exported: data\\asia\\extracted_data\\mean\\NAQU\n"
     ]
    },
    {
     "name": "stderr",
     "output_type": "stream",
     "text": [
      "100%|██████████| 17/17 [00:02<00:00,  6.85it/s]\n"
     ]
    },
    {
     "name": "stdout",
     "output_type": "stream",
     "text": [
      "  ⏳ Processing NGARI with 33 sensors...\n"
     ]
    },
    {
     "name": "stderr",
     "output_type": "stream",
     "text": [
      "Networks for mean:  55%|█████▍    | 6/11 [02:30<02:10, 26.01s/it]"
     ]
    },
    {
     "name": "stdout",
     "output_type": "stream",
     "text": [
      "File successfully written to data\\asia\\extracted_data\\mean\\NGARI.csv\n",
      "--------------------------------------------------\n",
      "  ✓ Exported: data\\asia\\extracted_data\\mean\\NGARI\n"
     ]
    },
    {
     "name": "stderr",
     "output_type": "stream",
     "text": [
      "100%|██████████| 9/9 [00:00<00:00, 37.13it/s]\n"
     ]
    },
    {
     "name": "stdout",
     "output_type": "stream",
     "text": [
      "  ⏳ Processing SKKU with 9 sensors...\n"
     ]
    },
    {
     "name": "stderr",
     "output_type": "stream",
     "text": [
      "Networks for mean:  64%|██████▎   | 7/11 [02:35<01:17, 19.43s/it]"
     ]
    },
    {
     "name": "stdout",
     "output_type": "stream",
     "text": [
      "File successfully written to data\\asia\\extracted_data\\mean\\SKKU.csv\n",
      "--------------------------------------------------\n",
      "  ✓ Exported: data\\asia\\extracted_data\\mean\\SKKU\n"
     ]
    },
    {
     "name": "stderr",
     "output_type": "stream",
     "text": [
      "100%|██████████| 34/34 [00:04<00:00,  7.41it/s]\n"
     ]
    },
    {
     "name": "stdout",
     "output_type": "stream",
     "text": [
      "  ⏳ Processing SMN-SDR with 102 sensors...\n"
     ]
    },
    {
     "name": "stderr",
     "output_type": "stream",
     "text": [
      "Networks for mean:  73%|███████▎  | 8/11 [03:29<01:31, 30.41s/it]"
     ]
    },
    {
     "name": "stdout",
     "output_type": "stream",
     "text": [
      "File successfully written to data\\asia\\extracted_data\\mean\\SMN-SDR.csv\n",
      "--------------------------------------------------\n",
      "  ✓ Exported: data\\asia\\extracted_data\\mean\\SMN-SDR\n"
     ]
    },
    {
     "name": "stderr",
     "output_type": "stream",
     "text": [
      "100%|██████████| 20/20 [00:02<00:00,  8.07it/s]\n"
     ]
    },
    {
     "name": "stdout",
     "output_type": "stream",
     "text": [
      "  ⏳ Processing SONTE-China with 40 sensors...\n"
     ]
    },
    {
     "name": "stderr",
     "output_type": "stream",
     "text": [
      "Networks for mean:  82%|████████▏ | 9/11 [03:53<00:56, 28.29s/it]"
     ]
    },
    {
     "name": "stdout",
     "output_type": "stream",
     "text": [
      "File successfully written to data\\asia\\extracted_data\\mean\\SONTE-China.csv\n",
      "--------------------------------------------------\n",
      "  ✓ Exported: data\\asia\\extracted_data\\mean\\SONTE-China\n"
     ]
    },
    {
     "name": "stderr",
     "output_type": "stream",
     "text": [
      "100%|██████████| 4/4 [00:01<00:00,  2.85it/s]\n"
     ]
    },
    {
     "name": "stdout",
     "output_type": "stream",
     "text": [
      "  ⏳ Processing VDS with 19 sensors...\n"
     ]
    },
    {
     "name": "stderr",
     "output_type": "stream",
     "text": [
      "Networks for mean:  91%|█████████ | 10/11 [04:15<00:26, 26.29s/it]"
     ]
    },
    {
     "name": "stdout",
     "output_type": "stream",
     "text": [
      "File successfully written to data\\asia\\extracted_data\\mean\\VDS.csv\n",
      "--------------------------------------------------\n",
      "  ✓ Exported: data\\asia\\extracted_data\\mean\\VDS\n"
     ]
    },
    {
     "name": "stderr",
     "output_type": "stream",
     "text": [
      "100%|██████████| 9/9 [00:00<00:00, 32.22it/s]\n"
     ]
    },
    {
     "name": "stdout",
     "output_type": "stream",
     "text": [
      "  ⏳ Processing WIT-Network with 9 sensors...\n"
     ]
    },
    {
     "name": "stderr",
     "output_type": "stream",
     "text": [
      "Networks for mean: 100%|██████████| 11/11 [04:17<00:00, 23.39s/it]\n"
     ]
    },
    {
     "name": "stdout",
     "output_type": "stream",
     "text": [
      "File successfully written to data\\asia\\extracted_data\\mean\\WIT-Network.csv\n",
      "--------------------------------------------------\n",
      "  ✓ Exported: data\\asia\\extracted_data\\mean\\WIT-Network\n",
      "\n",
      "🔄 Stat: max\n"
     ]
    },
    {
     "name": "stderr",
     "output_type": "stream",
     "text": [
      "100%|██████████| 53/53 [00:02<00:00, 21.46it/s]?, ?it/s]\n"
     ]
    },
    {
     "name": "stdout",
     "output_type": "stream",
     "text": [
      "  ⏳ Processing CTP_SMTMN with 102 sensors...\n"
     ]
    },
    {
     "name": "stderr",
     "output_type": "stream",
     "text": [
      "Networks for max:   9%|▉         | 1/11 [00:25<04:14, 25.40s/it]"
     ]
    },
    {
     "name": "stdout",
     "output_type": "stream",
     "text": [
      "File successfully written to data\\asia\\extracted_data\\max\\CTP_SMTMN.csv\n",
      "--------------------------------------------------\n",
      "  ✓ Exported: data\\asia\\extracted_data\\max\\CTP_SMTMN\n"
     ]
    },
    {
     "name": "stderr",
     "output_type": "stream",
     "text": [
      "100%|██████████| 18/18 [00:01<00:00, 11.71it/s]\n"
     ]
    },
    {
     "name": "stdout",
     "output_type": "stream",
     "text": [
      "  ⏳ Processing KIHS_CMC with 18 sensors...\n"
     ]
    },
    {
     "name": "stderr",
     "output_type": "stream",
     "text": [
      "Networks for max:  18%|█▊        | 2/11 [00:46<03:23, 22.65s/it]"
     ]
    },
    {
     "name": "stdout",
     "output_type": "stream",
     "text": [
      "File successfully written to data\\asia\\extracted_data\\max\\KIHS_CMC.csv\n",
      "--------------------------------------------------\n",
      "  ✓ Exported: data\\asia\\extracted_data\\max\\KIHS_CMC\n"
     ]
    },
    {
     "name": "stderr",
     "output_type": "stream",
     "text": [
      "100%|██████████| 19/19 [00:02<00:00,  8.33it/s]\n"
     ]
    },
    {
     "name": "stdout",
     "output_type": "stream",
     "text": [
      "  ⏳ Processing KIHS_SMC with 19 sensors...\n"
     ]
    },
    {
     "name": "stderr",
     "output_type": "stream",
     "text": [
      "Networks for max:  27%|██▋       | 3/11 [01:08<02:59, 22.43s/it]"
     ]
    },
    {
     "name": "stdout",
     "output_type": "stream",
     "text": [
      "File successfully written to data\\asia\\extracted_data\\max\\KIHS_SMC.csv\n",
      "--------------------------------------------------\n",
      "  ✓ Exported: data\\asia\\extracted_data\\max\\KIHS_SMC\n"
     ]
    },
    {
     "name": "stderr",
     "output_type": "stream",
     "text": [
      "100%|██████████| 16/16 [00:02<00:00,  7.22it/s]\n"
     ]
    },
    {
     "name": "stdout",
     "output_type": "stream",
     "text": [
      "  ⏳ Processing MAQU with 31 sensors...\n"
     ]
    },
    {
     "name": "stderr",
     "output_type": "stream",
     "text": [
      "Networks for max:  36%|███▋      | 4/11 [01:38<02:58, 25.43s/it]"
     ]
    },
    {
     "name": "stdout",
     "output_type": "stream",
     "text": [
      "File successfully written to data\\asia\\extracted_data\\max\\MAQU.csv\n",
      "--------------------------------------------------\n",
      "  ✓ Exported: data\\asia\\extracted_data\\max\\MAQU\n"
     ]
    },
    {
     "name": "stderr",
     "output_type": "stream",
     "text": [
      "100%|██████████| 9/9 [00:01<00:00,  4.73it/s]\n"
     ]
    },
    {
     "name": "stdout",
     "output_type": "stream",
     "text": [
      "  ⏳ Processing NAQU with 18 sensors...\n"
     ]
    },
    {
     "name": "stderr",
     "output_type": "stream",
     "text": [
      "Networks for max:  45%|████▌     | 5/11 [02:02<02:29, 24.92s/it]"
     ]
    },
    {
     "name": "stdout",
     "output_type": "stream",
     "text": [
      "File successfully written to data\\asia\\extracted_data\\max\\NAQU.csv\n",
      "--------------------------------------------------\n",
      "  ✓ Exported: data\\asia\\extracted_data\\max\\NAQU\n"
     ]
    },
    {
     "name": "stderr",
     "output_type": "stream",
     "text": [
      "100%|██████████| 17/17 [00:03<00:00,  5.57it/s]\n"
     ]
    },
    {
     "name": "stdout",
     "output_type": "stream",
     "text": [
      "  ⏳ Processing NGARI with 33 sensors...\n"
     ]
    },
    {
     "name": "stderr",
     "output_type": "stream",
     "text": [
      "Networks for max:  55%|█████▍    | 6/11 [02:45<02:35, 31.02s/it]"
     ]
    },
    {
     "name": "stdout",
     "output_type": "stream",
     "text": [
      "File successfully written to data\\asia\\extracted_data\\max\\NGARI.csv\n",
      "--------------------------------------------------\n",
      "  ✓ Exported: data\\asia\\extracted_data\\max\\NGARI\n"
     ]
    },
    {
     "name": "stderr",
     "output_type": "stream",
     "text": [
      "100%|██████████| 9/9 [00:00<00:00, 24.74it/s]\n"
     ]
    },
    {
     "name": "stdout",
     "output_type": "stream",
     "text": [
      "  ⏳ Processing SKKU with 9 sensors...\n"
     ]
    },
    {
     "name": "stderr",
     "output_type": "stream",
     "text": [
      "Networks for max:  64%|██████▎   | 7/11 [02:52<01:33, 23.42s/it]"
     ]
    },
    {
     "name": "stdout",
     "output_type": "stream",
     "text": [
      "File successfully written to data\\asia\\extracted_data\\max\\SKKU.csv\n",
      "--------------------------------------------------\n",
      "  ✓ Exported: data\\asia\\extracted_data\\max\\SKKU\n"
     ]
    },
    {
     "name": "stderr",
     "output_type": "stream",
     "text": [
      "100%|██████████| 34/34 [00:06<00:00,  5.57it/s]\n"
     ]
    },
    {
     "name": "stdout",
     "output_type": "stream",
     "text": [
      "  ⏳ Processing SMN-SDR with 102 sensors...\n"
     ]
    },
    {
     "name": "stderr",
     "output_type": "stream",
     "text": [
      "Networks for max:  73%|███████▎  | 8/11 [04:01<01:53, 37.75s/it]"
     ]
    },
    {
     "name": "stdout",
     "output_type": "stream",
     "text": [
      "File successfully written to data\\asia\\extracted_data\\max\\SMN-SDR.csv\n",
      "--------------------------------------------------\n",
      "  ✓ Exported: data\\asia\\extracted_data\\max\\SMN-SDR\n"
     ]
    },
    {
     "name": "stderr",
     "output_type": "stream",
     "text": [
      "100%|██████████| 20/20 [00:02<00:00,  7.22it/s]\n"
     ]
    },
    {
     "name": "stdout",
     "output_type": "stream",
     "text": [
      "  ⏳ Processing SONTE-China with 40 sensors...\n"
     ]
    },
    {
     "name": "stderr",
     "output_type": "stream",
     "text": [
      "Networks for max:  82%|████████▏ | 9/11 [04:30<01:09, 34.90s/it]"
     ]
    },
    {
     "name": "stdout",
     "output_type": "stream",
     "text": [
      "File successfully written to data\\asia\\extracted_data\\max\\SONTE-China.csv\n",
      "--------------------------------------------------\n",
      "  ✓ Exported: data\\asia\\extracted_data\\max\\SONTE-China\n"
     ]
    },
    {
     "name": "stderr",
     "output_type": "stream",
     "text": [
      "100%|██████████| 4/4 [00:01<00:00,  2.28it/s]\n"
     ]
    },
    {
     "name": "stdout",
     "output_type": "stream",
     "text": [
      "  ⏳ Processing VDS with 19 sensors...\n"
     ]
    },
    {
     "name": "stderr",
     "output_type": "stream",
     "text": [
      "Networks for max:  91%|█████████ | 10/11 [04:57<00:32, 32.57s/it]"
     ]
    },
    {
     "name": "stdout",
     "output_type": "stream",
     "text": [
      "File successfully written to data\\asia\\extracted_data\\max\\VDS.csv\n",
      "--------------------------------------------------\n",
      "  ✓ Exported: data\\asia\\extracted_data\\max\\VDS\n"
     ]
    },
    {
     "name": "stderr",
     "output_type": "stream",
     "text": [
      "100%|██████████| 9/9 [00:00<00:00, 25.88it/s]\n"
     ]
    },
    {
     "name": "stdout",
     "output_type": "stream",
     "text": [
      "  ⏳ Processing WIT-Network with 9 sensors...\n"
     ]
    },
    {
     "name": "stderr",
     "output_type": "stream",
     "text": [
      "Networks for max: 100%|██████████| 11/11 [04:59<00:00, 27.23s/it]\n"
     ]
    },
    {
     "name": "stdout",
     "output_type": "stream",
     "text": [
      "File successfully written to data\\asia\\extracted_data\\max\\WIT-Network.csv\n",
      "--------------------------------------------------\n",
      "  ✓ Exported: data\\asia\\extracted_data\\max\\WIT-Network\n",
      "\n",
      "🔄 Stat: min\n"
     ]
    },
    {
     "name": "stderr",
     "output_type": "stream",
     "text": [
      "100%|██████████| 53/53 [00:03<00:00, 17.50it/s]?, ?it/s]\n"
     ]
    },
    {
     "name": "stdout",
     "output_type": "stream",
     "text": [
      "  ⏳ Processing CTP_SMTMN with 102 sensors...\n"
     ]
    },
    {
     "name": "stderr",
     "output_type": "stream",
     "text": [
      "Networks for min:   9%|▉         | 1/11 [00:30<05:06, 30.68s/it]"
     ]
    },
    {
     "name": "stdout",
     "output_type": "stream",
     "text": [
      "File successfully written to data\\asia\\extracted_data\\min\\CTP_SMTMN.csv\n",
      "--------------------------------------------------\n",
      "  ✓ Exported: data\\asia\\extracted_data\\min\\CTP_SMTMN\n"
     ]
    },
    {
     "name": "stderr",
     "output_type": "stream",
     "text": [
      "100%|██████████| 18/18 [00:01<00:00,  9.22it/s]\n"
     ]
    },
    {
     "name": "stdout",
     "output_type": "stream",
     "text": [
      "  ⏳ Processing KIHS_CMC with 18 sensors...\n"
     ]
    },
    {
     "name": "stderr",
     "output_type": "stream",
     "text": [
      "Networks for min:  18%|█▊        | 2/11 [00:54<03:59, 26.56s/it]"
     ]
    },
    {
     "name": "stdout",
     "output_type": "stream",
     "text": [
      "File successfully written to data\\asia\\extracted_data\\min\\KIHS_CMC.csv\n",
      "--------------------------------------------------\n",
      "  ✓ Exported: data\\asia\\extracted_data\\min\\KIHS_CMC\n"
     ]
    },
    {
     "name": "stderr",
     "output_type": "stream",
     "text": [
      "100%|██████████| 19/19 [00:01<00:00,  9.74it/s]\n"
     ]
    },
    {
     "name": "stdout",
     "output_type": "stream",
     "text": [
      "  ⏳ Processing KIHS_SMC with 19 sensors...\n"
     ]
    },
    {
     "name": "stderr",
     "output_type": "stream",
     "text": [
      "Networks for min:  27%|██▋       | 3/11 [01:18<03:25, 25.64s/it]"
     ]
    },
    {
     "name": "stdout",
     "output_type": "stream",
     "text": [
      "File successfully written to data\\asia\\extracted_data\\min\\KIHS_SMC.csv\n",
      "--------------------------------------------------\n",
      "  ✓ Exported: data\\asia\\extracted_data\\min\\KIHS_SMC\n"
     ]
    },
    {
     "name": "stderr",
     "output_type": "stream",
     "text": [
      "100%|██████████| 16/16 [00:02<00:00,  6.96it/s]\n"
     ]
    },
    {
     "name": "stdout",
     "output_type": "stream",
     "text": [
      "  ⏳ Processing MAQU with 31 sensors...\n"
     ]
    },
    {
     "name": "stderr",
     "output_type": "stream",
     "text": [
      "Networks for min:  36%|███▋      | 4/11 [01:53<03:24, 29.27s/it]"
     ]
    },
    {
     "name": "stdout",
     "output_type": "stream",
     "text": [
      "File successfully written to data\\asia\\extracted_data\\min\\MAQU.csv\n",
      "--------------------------------------------------\n",
      "  ✓ Exported: data\\asia\\extracted_data\\min\\MAQU\n"
     ]
    },
    {
     "name": "stderr",
     "output_type": "stream",
     "text": [
      "100%|██████████| 9/9 [00:01<00:00,  4.84it/s]\n"
     ]
    },
    {
     "name": "stdout",
     "output_type": "stream",
     "text": [
      "  ⏳ Processing NAQU with 18 sensors...\n"
     ]
    },
    {
     "name": "stderr",
     "output_type": "stream",
     "text": [
      "Networks for min:  45%|████▌     | 5/11 [02:16<02:41, 26.89s/it]"
     ]
    },
    {
     "name": "stdout",
     "output_type": "stream",
     "text": [
      "File successfully written to data\\asia\\extracted_data\\min\\NAQU.csv\n",
      "--------------------------------------------------\n",
      "  ✓ Exported: data\\asia\\extracted_data\\min\\NAQU\n"
     ]
    },
    {
     "name": "stderr",
     "output_type": "stream",
     "text": [
      "100%|██████████| 17/17 [00:03<00:00,  5.63it/s]\n"
     ]
    },
    {
     "name": "stdout",
     "output_type": "stream",
     "text": [
      "  ⏳ Processing NGARI with 33 sensors...\n"
     ]
    },
    {
     "name": "stderr",
     "output_type": "stream",
     "text": [
      "Networks for min:  55%|█████▍    | 6/11 [03:00<02:43, 32.72s/it]"
     ]
    },
    {
     "name": "stdout",
     "output_type": "stream",
     "text": [
      "File successfully written to data\\asia\\extracted_data\\min\\NGARI.csv\n",
      "--------------------------------------------------\n",
      "  ✓ Exported: data\\asia\\extracted_data\\min\\NGARI\n"
     ]
    },
    {
     "name": "stderr",
     "output_type": "stream",
     "text": [
      "100%|██████████| 9/9 [00:00<00:00, 36.12it/s]\n"
     ]
    },
    {
     "name": "stdout",
     "output_type": "stream",
     "text": [
      "  ⏳ Processing SKKU with 9 sensors...\n"
     ]
    },
    {
     "name": "stderr",
     "output_type": "stream",
     "text": [
      "Networks for min:  64%|██████▎   | 7/11 [03:06<01:35, 23.86s/it]"
     ]
    },
    {
     "name": "stdout",
     "output_type": "stream",
     "text": [
      "File successfully written to data\\asia\\extracted_data\\min\\SKKU.csv\n",
      "--------------------------------------------------\n",
      "  ✓ Exported: data\\asia\\extracted_data\\min\\SKKU\n"
     ]
    },
    {
     "name": "stderr",
     "output_type": "stream",
     "text": [
      "100%|██████████| 34/34 [00:04<00:00,  7.69it/s]\n"
     ]
    },
    {
     "name": "stdout",
     "output_type": "stream",
     "text": [
      "  ⏳ Processing SMN-SDR with 102 sensors...\n"
     ]
    },
    {
     "name": "stderr",
     "output_type": "stream",
     "text": [
      "Networks for min:  73%|███████▎  | 8/11 [04:00<01:40, 33.62s/it]"
     ]
    },
    {
     "name": "stdout",
     "output_type": "stream",
     "text": [
      "File successfully written to data\\asia\\extracted_data\\min\\SMN-SDR.csv\n",
      "--------------------------------------------------\n",
      "  ✓ Exported: data\\asia\\extracted_data\\min\\SMN-SDR\n"
     ]
    },
    {
     "name": "stderr",
     "output_type": "stream",
     "text": [
      "100%|██████████| 20/20 [00:02<00:00,  8.05it/s]\n"
     ]
    },
    {
     "name": "stdout",
     "output_type": "stream",
     "text": [
      "  ⏳ Processing SONTE-China with 40 sensors...\n"
     ]
    },
    {
     "name": "stderr",
     "output_type": "stream",
     "text": [
      "Networks for min:  82%|████████▏ | 9/11 [04:23<01:00, 30.27s/it]"
     ]
    },
    {
     "name": "stdout",
     "output_type": "stream",
     "text": [
      "File successfully written to data\\asia\\extracted_data\\min\\SONTE-China.csv\n",
      "--------------------------------------------------\n",
      "  ✓ Exported: data\\asia\\extracted_data\\min\\SONTE-China\n"
     ]
    },
    {
     "name": "stderr",
     "output_type": "stream",
     "text": [
      "100%|██████████| 4/4 [00:01<00:00,  2.84it/s]\n"
     ]
    },
    {
     "name": "stdout",
     "output_type": "stream",
     "text": [
      "  ⏳ Processing VDS with 19 sensors...\n"
     ]
    },
    {
     "name": "stderr",
     "output_type": "stream",
     "text": [
      "Networks for min:  91%|█████████ | 10/11 [04:43<00:27, 27.23s/it]"
     ]
    },
    {
     "name": "stdout",
     "output_type": "stream",
     "text": [
      "File successfully written to data\\asia\\extracted_data\\min\\VDS.csv\n",
      "--------------------------------------------------\n",
      "  ✓ Exported: data\\asia\\extracted_data\\min\\VDS\n"
     ]
    },
    {
     "name": "stderr",
     "output_type": "stream",
     "text": [
      "100%|██████████| 9/9 [00:00<00:00, 32.72it/s]\n"
     ]
    },
    {
     "name": "stdout",
     "output_type": "stream",
     "text": [
      "  ⏳ Processing WIT-Network with 9 sensors...\n"
     ]
    },
    {
     "name": "stderr",
     "output_type": "stream",
     "text": [
      "Networks for min: 100%|██████████| 11/11 [04:45<00:00, 25.99s/it]\n"
     ]
    },
    {
     "name": "stdout",
     "output_type": "stream",
     "text": [
      "File successfully written to data\\asia\\extracted_data\\min\\WIT-Network.csv\n",
      "--------------------------------------------------\n",
      "  ✓ Exported: data\\asia\\extracted_data\\min\\WIT-Network\n",
      "\n",
      "🔄 Stat: std\n"
     ]
    },
    {
     "name": "stderr",
     "output_type": "stream",
     "text": [
      "100%|██████████| 53/53 [00:02<00:00, 21.22it/s]?, ?it/s]\n"
     ]
    },
    {
     "name": "stdout",
     "output_type": "stream",
     "text": [
      "  ⏳ Processing CTP_SMTMN with 102 sensors...\n"
     ]
    },
    {
     "name": "stderr",
     "output_type": "stream",
     "text": [
      "Networks for std:   9%|▉         | 1/11 [00:29<04:57, 29.75s/it]"
     ]
    },
    {
     "name": "stdout",
     "output_type": "stream",
     "text": [
      "File successfully written to data\\asia\\extracted_data\\std\\CTP_SMTMN.csv\n",
      "--------------------------------------------------\n",
      "  ✓ Exported: data\\asia\\extracted_data\\std\\CTP_SMTMN\n"
     ]
    },
    {
     "name": "stderr",
     "output_type": "stream",
     "text": [
      "100%|██████████| 18/18 [00:01<00:00, 10.33it/s]\n"
     ]
    },
    {
     "name": "stdout",
     "output_type": "stream",
     "text": [
      "  ⏳ Processing KIHS_CMC with 18 sensors...\n"
     ]
    },
    {
     "name": "stderr",
     "output_type": "stream",
     "text": [
      "Networks for std:  18%|█▊        | 2/11 [00:56<04:13, 28.14s/it]"
     ]
    },
    {
     "name": "stdout",
     "output_type": "stream",
     "text": [
      "File successfully written to data\\asia\\extracted_data\\std\\KIHS_CMC.csv\n",
      "--------------------------------------------------\n",
      "  ✓ Exported: data\\asia\\extracted_data\\std\\KIHS_CMC\n"
     ]
    },
    {
     "name": "stderr",
     "output_type": "stream",
     "text": [
      "100%|██████████| 19/19 [00:01<00:00, 10.17it/s]\n"
     ]
    },
    {
     "name": "stdout",
     "output_type": "stream",
     "text": [
      "  ⏳ Processing KIHS_SMC with 19 sensors...\n"
     ]
    },
    {
     "name": "stderr",
     "output_type": "stream",
     "text": [
      "Networks for std:  27%|██▋       | 3/11 [01:25<03:45, 28.19s/it]"
     ]
    },
    {
     "name": "stdout",
     "output_type": "stream",
     "text": [
      "File successfully written to data\\asia\\extracted_data\\std\\KIHS_SMC.csv\n",
      "--------------------------------------------------\n",
      "  ✓ Exported: data\\asia\\extracted_data\\std\\KIHS_SMC\n"
     ]
    },
    {
     "name": "stderr",
     "output_type": "stream",
     "text": [
      "100%|██████████| 16/16 [00:02<00:00,  7.84it/s]\n"
     ]
    },
    {
     "name": "stdout",
     "output_type": "stream",
     "text": [
      "  ⏳ Processing MAQU with 31 sensors...\n"
     ]
    },
    {
     "name": "stderr",
     "output_type": "stream",
     "text": [
      "Networks for std:  36%|███▋      | 4/11 [02:02<03:44, 32.05s/it]"
     ]
    },
    {
     "name": "stdout",
     "output_type": "stream",
     "text": [
      "File successfully written to data\\asia\\extracted_data\\std\\MAQU.csv\n",
      "--------------------------------------------------\n",
      "  ✓ Exported: data\\asia\\extracted_data\\std\\MAQU\n"
     ]
    },
    {
     "name": "stderr",
     "output_type": "stream",
     "text": [
      "100%|██████████| 9/9 [00:01<00:00,  6.10it/s]\n"
     ]
    },
    {
     "name": "stdout",
     "output_type": "stream",
     "text": [
      "  ⏳ Processing NAQU with 18 sensors...\n"
     ]
    },
    {
     "name": "stderr",
     "output_type": "stream",
     "text": [
      "Networks for std:  45%|████▌     | 5/11 [02:29<02:59, 29.94s/it]"
     ]
    },
    {
     "name": "stdout",
     "output_type": "stream",
     "text": [
      "File successfully written to data\\asia\\extracted_data\\std\\NAQU.csv\n",
      "--------------------------------------------------\n",
      "  ✓ Exported: data\\asia\\extracted_data\\std\\NAQU\n"
     ]
    },
    {
     "name": "stderr",
     "output_type": "stream",
     "text": [
      "100%|██████████| 17/17 [00:02<00:00,  6.82it/s]\n"
     ]
    },
    {
     "name": "stdout",
     "output_type": "stream",
     "text": [
      "  ⏳ Processing NGARI with 33 sensors...\n"
     ]
    },
    {
     "name": "stderr",
     "output_type": "stream",
     "text": [
      "Networks for std:  55%|█████▍    | 6/11 [03:17<03:01, 36.27s/it]"
     ]
    },
    {
     "name": "stdout",
     "output_type": "stream",
     "text": [
      "File successfully written to data\\asia\\extracted_data\\std\\NGARI.csv\n",
      "--------------------------------------------------\n",
      "  ✓ Exported: data\\asia\\extracted_data\\std\\NGARI\n"
     ]
    },
    {
     "name": "stderr",
     "output_type": "stream",
     "text": [
      "100%|██████████| 9/9 [00:00<00:00, 19.67it/s]\n"
     ]
    },
    {
     "name": "stdout",
     "output_type": "stream",
     "text": [
      "  ⏳ Processing SKKU with 9 sensors...\n"
     ]
    },
    {
     "name": "stderr",
     "output_type": "stream",
     "text": [
      "Networks for std:  64%|██████▎   | 7/11 [03:28<01:51, 27.97s/it]"
     ]
    },
    {
     "name": "stdout",
     "output_type": "stream",
     "text": [
      "File successfully written to data\\asia\\extracted_data\\std\\SKKU.csv\n",
      "--------------------------------------------------\n",
      "  ✓ Exported: data\\asia\\extracted_data\\std\\SKKU\n"
     ]
    },
    {
     "name": "stderr",
     "output_type": "stream",
     "text": [
      "100%|██████████| 34/34 [00:05<00:00,  6.09it/s]\n"
     ]
    },
    {
     "name": "stdout",
     "output_type": "stream",
     "text": [
      "  ⏳ Processing SMN-SDR with 102 sensors...\n"
     ]
    },
    {
     "name": "stderr",
     "output_type": "stream",
     "text": [
      "Networks for std:  73%|███████▎  | 8/11 [04:43<02:08, 42.84s/it]"
     ]
    },
    {
     "name": "stdout",
     "output_type": "stream",
     "text": [
      "File successfully written to data\\asia\\extracted_data\\std\\SMN-SDR.csv\n",
      "--------------------------------------------------\n",
      "  ✓ Exported: data\\asia\\extracted_data\\std\\SMN-SDR\n"
     ]
    },
    {
     "name": "stderr",
     "output_type": "stream",
     "text": [
      "100%|██████████| 20/20 [00:02<00:00,  8.08it/s]\n"
     ]
    },
    {
     "name": "stdout",
     "output_type": "stream",
     "text": [
      "  ⏳ Processing SONTE-China with 40 sensors...\n"
     ]
    },
    {
     "name": "stderr",
     "output_type": "stream",
     "text": [
      "Networks for std:  82%|████████▏ | 9/11 [05:15<01:18, 39.49s/it]"
     ]
    },
    {
     "name": "stdout",
     "output_type": "stream",
     "text": [
      "File successfully written to data\\asia\\extracted_data\\std\\SONTE-China.csv\n",
      "--------------------------------------------------\n",
      "  ✓ Exported: data\\asia\\extracted_data\\std\\SONTE-China\n"
     ]
    },
    {
     "name": "stderr",
     "output_type": "stream",
     "text": [
      "100%|██████████| 4/4 [00:01<00:00,  2.70it/s]\n"
     ]
    },
    {
     "name": "stdout",
     "output_type": "stream",
     "text": [
      "  ⏳ Processing VDS with 19 sensors...\n"
     ]
    },
    {
     "name": "stderr",
     "output_type": "stream",
     "text": [
      "Networks for std:  91%|█████████ | 10/11 [05:46<00:36, 36.94s/it]"
     ]
    },
    {
     "name": "stdout",
     "output_type": "stream",
     "text": [
      "File successfully written to data\\asia\\extracted_data\\std\\VDS.csv\n",
      "--------------------------------------------------\n",
      "  ✓ Exported: data\\asia\\extracted_data\\std\\VDS\n"
     ]
    },
    {
     "name": "stderr",
     "output_type": "stream",
     "text": [
      "100%|██████████| 9/9 [00:00<00:00, 26.91it/s]\n"
     ]
    },
    {
     "name": "stdout",
     "output_type": "stream",
     "text": [
      "  ⏳ Processing WIT-Network with 9 sensors...\n"
     ]
    },
    {
     "name": "stderr",
     "output_type": "stream",
     "text": [
      "Networks for std: 100%|██████████| 11/11 [05:49<00:00, 31.75s/it]\n"
     ]
    },
    {
     "name": "stdout",
     "output_type": "stream",
     "text": [
      "File successfully written to data\\asia\\extracted_data\\std\\WIT-Network.csv\n",
      "--------------------------------------------------\n",
      "  ✓ Exported: data\\asia\\extracted_data\\std\\WIT-Network\n",
      "\n",
      "🔄 Stat: median\n"
     ]
    },
    {
     "name": "stderr",
     "output_type": "stream",
     "text": [
      "100%|██████████| 53/53 [00:03<00:00, 14.76it/s]00<?, ?it/s]\n"
     ]
    },
    {
     "name": "stdout",
     "output_type": "stream",
     "text": [
      "  ⏳ Processing CTP_SMTMN with 102 sensors...\n"
     ]
    },
    {
     "name": "stderr",
     "output_type": "stream",
     "text": [
      "Networks for median:   9%|▉         | 1/11 [00:45<07:39, 45.93s/it]"
     ]
    },
    {
     "name": "stdout",
     "output_type": "stream",
     "text": [
      "File successfully written to data\\asia\\extracted_data\\median\\CTP_SMTMN.csv\n",
      "--------------------------------------------------\n",
      "  ✓ Exported: data\\asia\\extracted_data\\median\\CTP_SMTMN\n"
     ]
    },
    {
     "name": "stderr",
     "output_type": "stream",
     "text": [
      "100%|██████████| 18/18 [00:02<00:00,  7.39it/s]\n"
     ]
    },
    {
     "name": "stdout",
     "output_type": "stream",
     "text": [
      "  ⏳ Processing KIHS_CMC with 18 sensors...\n"
     ]
    },
    {
     "name": "stderr",
     "output_type": "stream",
     "text": [
      "Networks for median:  18%|█▊        | 2/11 [01:32<06:55, 46.18s/it]"
     ]
    },
    {
     "name": "stdout",
     "output_type": "stream",
     "text": [
      "File successfully written to data\\asia\\extracted_data\\median\\KIHS_CMC.csv\n",
      "--------------------------------------------------\n",
      "  ✓ Exported: data\\asia\\extracted_data\\median\\KIHS_CMC\n"
     ]
    },
    {
     "name": "stderr",
     "output_type": "stream",
     "text": [
      "100%|██████████| 19/19 [00:01<00:00, 11.25it/s]\n"
     ]
    },
    {
     "name": "stdout",
     "output_type": "stream",
     "text": [
      "  ⏳ Processing KIHS_SMC with 19 sensors...\n"
     ]
    },
    {
     "name": "stderr",
     "output_type": "stream",
     "text": [
      "Networks for median:  27%|██▋       | 3/11 [02:12<05:46, 43.36s/it]"
     ]
    },
    {
     "name": "stdout",
     "output_type": "stream",
     "text": [
      "File successfully written to data\\asia\\extracted_data\\median\\KIHS_SMC.csv\n",
      "--------------------------------------------------\n",
      "  ✓ Exported: data\\asia\\extracted_data\\median\\KIHS_SMC\n"
     ]
    },
    {
     "name": "stderr",
     "output_type": "stream",
     "text": [
      "100%|██████████| 16/16 [00:01<00:00,  9.33it/s]\n"
     ]
    },
    {
     "name": "stdout",
     "output_type": "stream",
     "text": [
      "  ⏳ Processing MAQU with 31 sensors...\n"
     ]
    },
    {
     "name": "stderr",
     "output_type": "stream",
     "text": [
      "Networks for median:  36%|███▋      | 4/11 [03:03<05:23, 46.27s/it]"
     ]
    },
    {
     "name": "stdout",
     "output_type": "stream",
     "text": [
      "File successfully written to data\\asia\\extracted_data\\median\\MAQU.csv\n",
      "--------------------------------------------------\n",
      "  ✓ Exported: data\\asia\\extracted_data\\median\\MAQU\n"
     ]
    },
    {
     "name": "stderr",
     "output_type": "stream",
     "text": [
      "100%|██████████| 9/9 [00:01<00:00,  5.78it/s]\n"
     ]
    },
    {
     "name": "stdout",
     "output_type": "stream",
     "text": [
      "  ⏳ Processing NAQU with 18 sensors...\n"
     ]
    },
    {
     "name": "stderr",
     "output_type": "stream",
     "text": [
      "Networks for median:  45%|████▌     | 5/11 [03:39<04:15, 42.56s/it]"
     ]
    },
    {
     "name": "stdout",
     "output_type": "stream",
     "text": [
      "File successfully written to data\\asia\\extracted_data\\median\\NAQU.csv\n",
      "--------------------------------------------------\n",
      "  ✓ Exported: data\\asia\\extracted_data\\median\\NAQU\n"
     ]
    },
    {
     "name": "stderr",
     "output_type": "stream",
     "text": [
      "100%|██████████| 17/17 [00:02<00:00,  6.99it/s]\n"
     ]
    },
    {
     "name": "stdout",
     "output_type": "stream",
     "text": [
      "  ⏳ Processing NGARI with 33 sensors...\n"
     ]
    },
    {
     "name": "stderr",
     "output_type": "stream",
     "text": [
      "Networks for median:  55%|█████▍    | 6/11 [04:43<04:10, 50.08s/it]"
     ]
    },
    {
     "name": "stdout",
     "output_type": "stream",
     "text": [
      "File successfully written to data\\asia\\extracted_data\\median\\NGARI.csv\n",
      "--------------------------------------------------\n",
      "  ✓ Exported: data\\asia\\extracted_data\\median\\NGARI\n"
     ]
    },
    {
     "name": "stderr",
     "output_type": "stream",
     "text": [
      "100%|██████████| 9/9 [00:00<00:00, 16.65it/s]\n"
     ]
    },
    {
     "name": "stdout",
     "output_type": "stream",
     "text": [
      "  ⏳ Processing SKKU with 9 sensors...\n"
     ]
    },
    {
     "name": "stderr",
     "output_type": "stream",
     "text": [
      "Networks for median:  64%|██████▎   | 7/11 [04:55<02:30, 37.70s/it]"
     ]
    },
    {
     "name": "stdout",
     "output_type": "stream",
     "text": [
      "File successfully written to data\\asia\\extracted_data\\median\\SKKU.csv\n",
      "--------------------------------------------------\n",
      "  ✓ Exported: data\\asia\\extracted_data\\median\\SKKU\n"
     ]
    },
    {
     "name": "stderr",
     "output_type": "stream",
     "text": [
      "100%|██████████| 34/34 [00:05<00:00,  6.10it/s]\n"
     ]
    },
    {
     "name": "stdout",
     "output_type": "stream",
     "text": [
      "  ⏳ Processing SMN-SDR with 102 sensors...\n"
     ]
    },
    {
     "name": "stderr",
     "output_type": "stream",
     "text": [
      "Networks for median:  73%|███████▎  | 8/11 [06:27<02:44, 54.90s/it]"
     ]
    },
    {
     "name": "stdout",
     "output_type": "stream",
     "text": [
      "File successfully written to data\\asia\\extracted_data\\median\\SMN-SDR.csv\n",
      "--------------------------------------------------\n",
      "  ✓ Exported: data\\asia\\extracted_data\\median\\SMN-SDR\n"
     ]
    },
    {
     "name": "stderr",
     "output_type": "stream",
     "text": [
      "100%|██████████| 20/20 [00:02<00:00,  7.20it/s]\n"
     ]
    },
    {
     "name": "stdout",
     "output_type": "stream",
     "text": [
      "  ⏳ Processing SONTE-China with 40 sensors...\n"
     ]
    },
    {
     "name": "stderr",
     "output_type": "stream",
     "text": [
      "Networks for median:  82%|████████▏ | 9/11 [07:25<01:51, 55.94s/it]"
     ]
    },
    {
     "name": "stdout",
     "output_type": "stream",
     "text": [
      "File successfully written to data\\asia\\extracted_data\\median\\SONTE-China.csv\n",
      "--------------------------------------------------\n",
      "  ✓ Exported: data\\asia\\extracted_data\\median\\SONTE-China\n"
     ]
    },
    {
     "name": "stderr",
     "output_type": "stream",
     "text": [
      "100%|██████████| 4/4 [00:02<00:00,  1.40it/s]\n"
     ]
    },
    {
     "name": "stdout",
     "output_type": "stream",
     "text": [
      "  ⏳ Processing VDS with 19 sensors...\n"
     ]
    },
    {
     "name": "stderr",
     "output_type": "stream",
     "text": [
      "Networks for median:  91%|█████████ | 10/11 [08:18<00:55, 55.02s/it]"
     ]
    },
    {
     "name": "stdout",
     "output_type": "stream",
     "text": [
      "File successfully written to data\\asia\\extracted_data\\median\\VDS.csv\n",
      "--------------------------------------------------\n",
      "  ✓ Exported: data\\asia\\extracted_data\\median\\VDS\n"
     ]
    },
    {
     "name": "stderr",
     "output_type": "stream",
     "text": [
      "100%|██████████| 9/9 [00:00<00:00, 25.82it/s]\n"
     ]
    },
    {
     "name": "stdout",
     "output_type": "stream",
     "text": [
      "  ⏳ Processing WIT-Network with 9 sensors...\n"
     ]
    },
    {
     "name": "stderr",
     "output_type": "stream",
     "text": [
      "Networks for median: 100%|██████████| 11/11 [08:21<00:00, 45.62s/it]"
     ]
    },
    {
     "name": "stdout",
     "output_type": "stream",
     "text": [
      "File successfully written to data\\asia\\extracted_data\\median\\WIT-Network.csv\n",
      "--------------------------------------------------\n",
      "  ✓ Exported: data\\asia\\extracted_data\\median\\WIT-Network\n"
     ]
    },
    {
     "name": "stderr",
     "output_type": "stream",
     "text": [
      "\n"
     ]
    },
    {
     "name": "stdout",
     "output_type": "stream",
     "text": [
      "\n",
      "✅ Run complete.\n",
      "Summary:\n",
      "  Success: 55\n",
      "  Skipped: 15\n",
      "  Failed: 0\n",
      "📝 Log saved to 'ismn_run_log.txt'\n"
     ]
    }
   ],
   "source": [
    "if __name__ == '__main__':\n",
    "    all_zip_files = []\n",
    "    for root, dirs, files in os.walk(data_root):\n",
    "        for file in files:\n",
    "            if file.endswith('.zip'):\n",
    "                all_zip_files.append(os.path.join(root, file))\n",
    "\n",
    "    print(f\"Total ISMN zip files found: {len(all_zip_files)}\")\n",
    "\n",
    "    overwrite_existing = False  # Set True to force overwrite\n",
    "    total_log = []\n",
    "    global_summary = {\"success\": 0, \"skipped\": 0, \"failed\": 0}\n",
    "\n",
    "    for file_path in all_zip_files:\n",
    "        file_log, summary = process_ismn_file(file_path, overwrite=overwrite_existing)\n",
    "        total_log.extend(file_log)\n",
    "        for k in global_summary:\n",
    "            global_summary[k] += summary[k]\n",
    "\n",
    "    # Write log to disk\n",
    "    with open(\"ismn_run_log.txt\", \"w\", encoding=\"utf-8\") as f:\n",
    "        for entry in total_log:\n",
    "            f.write(entry + \"\\n\")\n",
    "        f.write(\"\\n==== FINAL SUMMARY ====\\n\")\n",
    "        for key, val in global_summary.items():\n",
    "            f.write(f\"{key.title()}: {val}\\n\")\n",
    "\n",
    "    print(\"\\n✅ Run complete.\")\n",
    "    print(\"Summary:\")\n",
    "    for key, val in global_summary.items():\n",
    "        print(f\"  {key.title()}: {val}\")\n",
    "    print(\"📝 Log saved to 'ismn_run_log.txt'\")\n"
   ]
  }
 ],
 "metadata": {
  "kernelspec": {
   "display_name": "ismn",
   "language": "python",
   "name": "python3"
  },
  "language_info": {
   "codemirror_mode": {
    "name": "ipython",
    "version": 3
   },
   "file_extension": ".py",
   "mimetype": "text/x-python",
   "name": "python",
   "nbconvert_exporter": "python",
   "pygments_lexer": "ipython3",
   "version": "3.12.5"
  }
 },
 "nbformat": 4,
 "nbformat_minor": 5
}
